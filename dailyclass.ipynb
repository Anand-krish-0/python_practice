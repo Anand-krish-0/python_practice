{
 "cells": [
  {
   "cell_type": "code",
   "execution_count": 2,
   "metadata": {},
   "outputs": [
    {
     "name": "stdout",
     "output_type": "stream",
     "text": [
      "[2, 4, 6]\n",
      "[]\n"
     ]
    }
   ],
   "source": [
    "def check_even_list(num_list):\n",
    "    \n",
    "    even_numbers = []\n",
    "    \n",
    "    # Go through each number\n",
    "    for number in num_list:\n",
    "        # Once we get a \"hit\" on an even number, we append the even number\n",
    "        if number % 2 == 0:\n",
    "            even_numbers.append(number)\n",
    "        # Don't do anything if its not even\n",
    "        else:\n",
    "            pass\n",
    "    # Notice the indentation! This ensures we run through the entire for loop    \n",
    "    return even_numbers\n",
    "result = check_even_list([1,2,3,4,5,6])\n",
    "print(result)\n",
    "result = check_even_list([1,3,5])\n",
    "print(result)"
   ]
  },
  {
   "cell_type": "code",
   "execution_count": 3,
   "metadata": {},
   "outputs": [
    {
     "name": "stdout",
     "output_type": "stream",
     "text": [
      "[1 2 3 4]\n"
     ]
    }
   ],
   "source": [
    "import numpy as np\n",
    "a=np.array([1,2,3,4])\n",
    "print(a)"
   ]
  },
  {
   "cell_type": "code",
   "execution_count": 4,
   "metadata": {},
   "outputs": [
    {
     "name": "stdout",
     "output_type": "stream",
     "text": [
      "Hello  abc\n",
      "abc Welcome\n"
     ]
    }
   ],
   "source": [
    "\n",
    "class Hello:\n",
    "    def greetings(self,name):\n",
    "        self.name = name\n",
    "        print(\"Hello \",self.name)\n",
    "\n",
    "obj_1 = Hello()\n",
    "obj_1.greetings(\"abc\")\n",
    "print (obj_1.name, \"Welcome\")\n"
   ]
  },
  {
   "cell_type": "code",
   "execution_count": 17,
   "metadata": {},
   "outputs": [
    {
     "name": "stdout",
     "output_type": "stream",
     "text": [
      "Anand Krishnan 20000\n",
      "Bhuvanesh varan 250000\n",
      "Sandhosh kumar 30000\n"
     ]
    }
   ],
   "source": [
    "\n",
    "class info:\n",
    "    def greetings(self,first_name,last_name,tution):\n",
    "            self.first_name=first_name\n",
    "            self.last_name=last_name\n",
    "            self.tution=tution\n",
    "            print(self.first_name,self.last_name,self.tution)\n",
    "obj_1=info()\n",
    "obj_1.greetings(\"Anand\",\"Krishnan\",20000)\n",
    "obj_2=info()\n",
    "obj_2.greetings(\"Bhuvanesh\",\"varan\",250000)\n",
    "obj_3=info()\n",
    "obj_3.greetings(\"Sandhosh\",\"kumar\",30000)\n",
    "\n"
   ]
  },
  {
   "cell_type": "code",
   "execution_count": 26,
   "metadata": {},
   "outputs": [
    {
     "name": "stdout",
     "output_type": "stream",
     "text": [
      "Ford Red Mustang\n",
      "Toyota Blue Crysta\n",
      "Volkswagen Green Golf\n"
     ]
    }
   ],
   "source": [
    "class cars:\n",
    "    def info(huge,Car_name,Car_colour,Car_model):\n",
    "        huge.Car_name=Car_name\n",
    "        huge.Car_colour=Car_colour\n",
    "        huge.Car_model=Car_model\n",
    "        print(huge.Car_name,huge.Car_colour,huge.Car_model)\n",
    "\n",
    "car_1=cars()\n",
    "car_1.info(\"Ford\",\"Red\",\"Mustang\")\n",
    "car_2=cars()\n",
    "car_2.info(\"Toyota\",\"Blue\",\"Crysta\")\n",
    "car_3=cars()\n",
    "car_3.info(\"Volkswagen\",\"Green\",\"Golf\")"
   ]
  },
  {
   "cell_type": "code",
   "execution_count": 4,
   "metadata": {},
   "outputs": [
    {
     "name": "stdout",
     "output_type": "stream",
     "text": [
      "Area of the rectangle: 200\n",
      "Perimeter of the rectangle: 60\n"
     ]
    }
   ],
   "source": [
    "class rectangle:\n",
    "    def area(self,length,width):\n",
    "        self.length=length\n",
    "        self.width=width\n",
    "        print(\"Area of the rectangle:\",self.length*self.width)\n",
    "\n",
    "    def perimeter(self):\n",
    "        print(\"Perimeter of the rectangle:\",2*(self.length+self.width))\n",
    "\n",
    "obj_1=rectangle()\n",
    "obj_1.area(10,20)\n",
    "obj_1.perimeter()\n",
    "              "
   ]
  },
  {
   "cell_type": "code",
   "execution_count": 4,
   "metadata": {},
   "outputs": [
    {
     "name": "stdout",
     "output_type": "stream",
     "text": [
      "1\n",
      "2\n",
      "3\n",
      "4\n",
      "5\n",
      "6\n",
      "7\n",
      "8\n",
      "9\n"
     ]
    }
   ],
   "source": [
    "l=int(9)\n",
    "for i in range(l):\n",
    "    i=i+1\n",
    "    print(i)\n",
    " "
   ]
  },
  {
   "cell_type": "code",
   "execution_count": 5,
   "metadata": {},
   "outputs": [
    {
     "name": "stdout",
     "output_type": "stream",
     "text": [
      "Satyam 102\n",
      "Mayank 103\n",
      "Emp class called\n"
     ]
    }
   ],
   "source": [
    "# A Python program to demonstrate Single inheritance\n",
    "class Person:\n",
    "\n",
    "    # Constructor\n",
    "    def __init__(self, name, id):\n",
    "        self.name = name\n",
    "        self.id = id\n",
    "\n",
    "    # To check if this person is an employee\n",
    "    def Display(self):\n",
    "        print(self.name, self.id)\n",
    "\n",
    "class Emp(Person):\n",
    "\n",
    "    def Print(self):\n",
    "        print(\"Emp class called\")\n",
    "\t\n",
    " \n",
    " \n",
    "# Driver code // Base class\n",
    "emp = Person(\"Satyam\", 102) # An Object of Person\n",
    "emp.Display()\n",
    "\n",
    "\n",
    "# Derivd code // Child class\n",
    "Emp_details = Emp(\"Mayank\", 103)\n",
    "# calling parent class function\n",
    "Emp_details.Display()\n",
    "# Calling child class function\n",
    "Emp_details.Print()"
   ]
  },
  {
   "cell_type": "code",
   "execution_count": 8,
   "metadata": {},
   "outputs": [
    {
     "name": "stdout",
     "output_type": "stream",
     "text": [
      "DJ False\n",
      "Joe True\n"
     ]
    }
   ],
   "source": [
    "# another program to perform single inheritance\n",
    "class Person():\n",
    " \n",
    "    # Constructor\n",
    "    def __init__(self, name):\n",
    "        self.name = name\n",
    " \n",
    "    # To get name\n",
    "    def getName(self):\n",
    "        return self.name\n",
    " \n",
    "    # To check if this person is an employee\n",
    "    def isEmployee(self):\n",
    "        return False\n",
    " \n",
    " \n",
    "# Inherited or Subclass (Note Person in bracket)\n",
    "class Employee(Person):\n",
    " \n",
    "    # Here we return true\n",
    "    def isEmployee(self):\n",
    "        return True\n",
    " \n",
    " \n",
    "# Driver code\n",
    "emp = Person(\"DJ\")  # An Object of Person\n",
    "print(emp.getName(), emp.isEmployee())\n",
    " \n",
    "emp = Employee(\"Joe\")  # An Object of Employee\n",
    "print(emp.getName(), emp.isEmployee())"
   ]
  },
  {
   "cell_type": "code",
   "execution_count": 3,
   "metadata": {},
   "outputs": [
    {
     "ename": "TypeError",
     "evalue": "int() argument must be a string, a bytes-like object or a real number, not 'method'",
     "output_type": "error",
     "traceback": [
      "\u001b[1;31m---------------------------------------------------------------------------\u001b[0m",
      "\u001b[1;31mTypeError\u001b[0m                                 Traceback (most recent call last)",
      "Cell \u001b[1;32mIn[3], line 2\u001b[0m\n\u001b[0;32m      1\u001b[0m students\u001b[38;5;241m=\u001b[39m[]\n\u001b[1;32m----> 2\u001b[0m \u001b[38;5;28;01mfor\u001b[39;00m _ \u001b[38;5;129;01min\u001b[39;00m \u001b[38;5;28mrange\u001b[39m(\u001b[38;5;28;43mint\u001b[39;49m\u001b[43m(\u001b[49m\u001b[38;5;28;43minput\u001b[39;49m\u001b[43m)\u001b[49m):\n\u001b[0;32m      3\u001b[0m     name\u001b[38;5;241m=\u001b[39m\u001b[38;5;28minput\u001b[39m()\n\u001b[0;32m      4\u001b[0m     score\u001b[38;5;241m=\u001b[39m\u001b[38;5;28mfloat\u001b[39m(\u001b[38;5;28minput\u001b[39m())\n",
      "\u001b[1;31mTypeError\u001b[0m: int() argument must be a string, a bytes-like object or a real number, not 'method'"
     ]
    }
   ],
   "source": [
    "students=[]\n",
    "for _ in range(int(input)):\n",
    "    name=input()\n",
    "    score=float(input())\n",
    "    students.append([name,score])\n"
   ]
  },
  {
   "cell_type": "code",
   "execution_count": null,
   "metadata": {},
   "outputs": [],
   "source": []
  },
  {
   "cell_type": "code",
   "execution_count": null,
   "metadata": {},
   "outputs": [],
   "source": []
  },
  {
   "cell_type": "code",
   "execution_count": null,
   "metadata": {},
   "outputs": [],
   "source": []
  },
  {
   "cell_type": "code",
   "execution_count": null,
   "metadata": {},
   "outputs": [],
   "source": []
  }
 ],
 "metadata": {
  "kernelspec": {
   "display_name": "Python 3",
   "language": "python",
   "name": "python3"
  },
  "language_info": {
   "codemirror_mode": {
    "name": "ipython",
    "version": 3
   },
   "file_extension": ".py",
   "mimetype": "text/x-python",
   "name": "python",
   "nbconvert_exporter": "python",
   "pygments_lexer": "ipython3",
   "version": "3.12.5"
  }
 },
 "nbformat": 4,
 "nbformat_minor": 2
}
